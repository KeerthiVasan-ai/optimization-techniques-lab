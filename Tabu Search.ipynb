{
 "cells": [
  {
   "cell_type": "code",
   "execution_count": null,
   "metadata": {},
   "outputs": [
    {
     "name": "stdout",
     "output_type": "stream",
     "text": [
      "Iteration : 1 New best solution found: x = -10, f(x) = 100\n",
      "Iteration : 2 New best solution found: x = -6, f(x) = 36\n",
      "Iteration : 3 New best solution found: x = -2, f(x) = 4\n",
      "List : [350, 354, 358, 362, 366, 370, 374, 378, 382, 386] New best solution found: x = -2, f(x) = 4\n"
     ]
    }
   ],
   "source": [
    "import numpy as np\n",
    "\n",
    "class TabuSearch:\n",
    "    def __init__(self,fitness_function,initial_solution,tabu_list_size=10,max_iter=100):\n",
    "        self.fitness_function = fitness_function\n",
    "        self.initial_solution = initial_solution\n",
    "        self.tabu_list = []\n",
    "        self.tabu_list_size = tabu_list_size\n",
    "        self.max_iter = max_iter\n",
    "        self.current_solution = initial_solution\n",
    "        self.best_solution = initial_solution\n",
    "        self.best_solution_value = self.fitness_function(self.best_solution)\n",
    "\n",
    "    def generate_neighbour(self,solution):\n",
    "        return [solution+4,solution-4]\n",
    "\n",
    "    def apply_tabu_restriction(self,neighbours,tabu_list):\n",
    "        return [neighbour for neighbour in neighbours if neighbour not in tabu_list]\n",
    "\n",
    "    def select_neighbour(self,neighbours):\n",
    "        best_neighbour = None\n",
    "        best_neighbour_value = float('inf')\n",
    "\n",
    "        for neighbour in neighbours:\n",
    "            neighbour_value = self.fitness_function(neighbour)\n",
    "            if neighbour_value < best_neighbour_value:\n",
    "                best_neighbour = neighbour\n",
    "                best_neighbour_value = neighbour_value\n",
    "\n",
    "        return best_neighbour,best_neighbour_value\n",
    "\n",
    "    def update_tabu_list(self,tabu_list,move,tabu_list_size):\n",
    "        tabu_list.append(move)\n",
    "        if len(tabu_list) > tabu_list_size:\n",
    "            tabu_list.pop(0)\n",
    "\n",
    "    def run(self):\n",
    "        for iter in range(self.max_iter):\n",
    "            neighbours = self.generate_neighbour(self.current_solution)\n",
    "\n",
    "            allowed_neighbours = self.apply_tabu_restriction(neighbours,self.tabu_list)\n",
    "\n",
    "            best_neighbour,best_neighbour_value = self.select_neighbour(allowed_neighbours)\n",
    "\n",
    "            if best_neighbour_value < self.best_solution_value:\n",
    "                self.best_solution = best_neighbour\n",
    "                self.best_solution_value = best_neighbour_value\n",
    "                print(f\"Iteration : {iter+1} New best solution found: x = {self.best_solution}, f(x) = {self.best_solution_value}\")\n",
    "            \n",
    "            self.update_tabu_list(self.tabu_list,best_neighbour,self.tabu_list_size)\n",
    "\n",
    "            self.current_solution = best_neighbour\n",
    "\n",
    "            if best_neighbour_value == 0:\n",
    "                break\n",
    "\n",
    "        print(f\"List : {self.tabu_list} New best solution found: x = {self.best_solution}, f(x) = {self.best_solution_value}\")\n",
    "        # return \n",
    "\n",
    "def objective_function(x):\n",
    "    return x**2\n",
    "\n",
    "initial_solution = np.random.randint(-100,100)\n",
    "ts = TabuSearch(objective_function,initial_solution)\n",
    "ts.run()"
   ]
  },
  {
   "cell_type": "code",
   "execution_count": null,
   "metadata": {},
   "outputs": [],
   "source": []
  },
  {
   "cell_type": "code",
   "execution_count": null,
   "metadata": {},
   "outputs": [],
   "source": []
  }
 ],
 "metadata": {
  "kernelspec": {
   "display_name": "base",
   "language": "python",
   "name": "python3"
  },
  "language_info": {
   "codemirror_mode": {
    "name": "ipython",
    "version": 3
   },
   "file_extension": ".py",
   "mimetype": "text/x-python",
   "name": "python",
   "nbconvert_exporter": "python",
   "pygments_lexer": "ipython3",
   "version": "3.11.7"
  }
 },
 "nbformat": 4,
 "nbformat_minor": 2
}
