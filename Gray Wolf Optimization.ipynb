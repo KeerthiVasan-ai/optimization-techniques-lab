{
 "cells": [
  {
   "cell_type": "code",
   "execution_count": null,
   "metadata": {},
   "outputs": [
    {
     "name": "stdout",
     "output_type": "stream",
     "text": [
      "Iteration:0: Best Fitness : 45.36338259931172\n",
      "Iteration:10: Best Fitness : 6.085210855583375\n",
      "Iteration:20: Best Fitness : 0.09582422168529245\n",
      "Iteration:30: Best Fitness : 0.032702087045007315\n",
      "Iteration:40: Best Fitness : 0.0003664160945817738\n",
      "Iteration:50: Best Fitness : 4.104485463042037e-05\n",
      "Iteration:60: Best Fitness : 5.373698040962241e-06\n",
      "Iteration:70: Best Fitness : 1.5213426408374007e-06\n",
      "Iteration:80: Best Fitness : 8.052254316362678e-07\n",
      "Iteration:90: Best Fitness : 6.482951032355889e-07\n",
      "Best Solution : [ 0.0006768  -0.00026951],Best Fitness : 5.306906596113954e-07\n"
     ]
    }
   ],
   "source": [
    "import numpy as np\n",
    "\n",
    "class GrayWolf:\n",
    "    def __init__(self,fitness_function,num_wolves,a=2,dim=2,max_iter=100,lower_bound=-10,upper_bound=10):\n",
    "        self.fitness_function = fitness_function\n",
    "        self.num_wolves = num_wolves\n",
    "        self.a = a\n",
    "        self.dim = dim\n",
    "        self.max_iter = max_iter\n",
    "        self.lower_bound = lower_bound\n",
    "        self.upper_bound = upper_bound\n",
    "        self.wolves_position = self.initial_position()\n",
    "\n",
    "    def initial_position(self):\n",
    "        return self.lower_bound + (self.upper_bound - self.lower_bound) * np.random.rand(self.num_wolves,self.dim)\n",
    "    \n",
    "    def update_position(self,wolves_position,leader_pos,a,dim):\n",
    "        r1, r2 = np.random.rand(dim),np.random.rand(dim)\n",
    "        A, C = a*2*r1-a, 2*r2\n",
    "        d_leader = abs(C*leader_pos - wolves_position)\n",
    "        return (leader_pos - A * d_leader)\n",
    "    \n",
    "    def run(self):\n",
    "        for t in range(self.max_iter):\n",
    "            self.a = 2 - t * (2 / self.max_iter)\n",
    "\n",
    "            fitness = np.apply_along_axis(self.fitness_function,1,self.wolves_position)\n",
    "            index = np.argsort(fitness)\n",
    "            alpha_pos = self.wolves_position[index[0]]\n",
    "            beta_pos = self.wolves_position[index[1]]\n",
    "            delta_pos = self.wolves_position[index[2]]\n",
    "\n",
    "            for i in range(self.num_wolves):\n",
    "                new_alpha_pos = self.update_position(self.wolves_position[i],alpha_pos,self.a,self.dim)\n",
    "                new_beta_pos = self.update_position(self.wolves_position[i],beta_pos,self.a,self.dim)\n",
    "                new_delta_pos = self.update_position(self.wolves_position[i],delta_pos,self.a,self.dim)\n",
    "\n",
    "                self.wolves_position[i] = (new_alpha_pos + new_beta_pos + new_delta_pos) /3\n",
    "\n",
    "            if t%10 == 0:\n",
    "                print(f\"Iteration:{t}: Best Fitness : {self.fitness_function(alpha_pos)}\")\n",
    "\n",
    "        return alpha_pos\n",
    "    \n",
    "\n",
    "def objective_function(x):\n",
    "    return sum(x**2)\n",
    "\n",
    "gwo = GrayWolf(objective_function,5)\n",
    "alpha = gwo.run()\n",
    "print(f\"Best Solution : {alpha},Best Fitness : {objective_function(alpha)}\")"
   ]
  },
  {
   "cell_type": "code",
   "execution_count": null,
   "metadata": {},
   "outputs": [],
   "source": []
  }
 ],
 "metadata": {
  "kernelspec": {
   "display_name": "base",
   "language": "python",
   "name": "python3"
  },
  "language_info": {
   "codemirror_mode": {
    "name": "ipython",
    "version": 3
   },
   "file_extension": ".py",
   "mimetype": "text/x-python",
   "name": "python",
   "nbconvert_exporter": "python",
   "pygments_lexer": "ipython3",
   "version": "3.11.7"
  }
 },
 "nbformat": 4,
 "nbformat_minor": 2
}
