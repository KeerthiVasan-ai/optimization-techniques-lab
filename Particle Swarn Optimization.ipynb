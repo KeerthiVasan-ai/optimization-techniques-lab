{
 "cells": [
  {
   "cell_type": "code",
   "execution_count": 19,
   "metadata": {},
   "outputs": [],
   "source": [
    "import numpy as np\n",
    "\n",
    "class PSO:\n",
    "    def __init__(self,fitness_function,bounds,n_particle,max_iter,w=0.5,c1=1.0,c2=1.5):\n",
    "        self.fitness_function = fitness_function\n",
    "        self.bounds = bounds\n",
    "        self.n_particle = n_particle\n",
    "        self.max_iter = max_iter\n",
    "        self.w = w \n",
    "        self.c1 = c1\n",
    "        self.c2 = c2\n",
    "        self.particles = []\n",
    "        self.gbest_postion = None\n",
    "        self.gbest_value = float('inf')\n",
    "\n",
    "    class Particle:\n",
    "        def __init__(self,bounds):\n",
    "            self.position = np.random.uniform(bounds[:,0],bounds[:,1],len(bounds))\n",
    "            self.velocity = np.random.uniform(-1,1,len(bounds))\n",
    "            self.pbest_position = self.position.copy()\n",
    "            self.pbest_value = float('inf')\n",
    "\n",
    "        def update_velocity(self,gbest_position,w,c1,c2):\n",
    "            r1 = np.random.rand(len(self.position))\n",
    "            r2 = np.random.rand(len(self.position))\n",
    "            cognitive_velocity = c1 * r1 * (self.pbest_position - self.position)\n",
    "            social_velocity = c2 * r2 * (gbest_position - self.position)\n",
    "            self.velocity = w * self.velocity + cognitive_velocity + social_velocity\n",
    "\n",
    "        def update_position(self,bounds):\n",
    "            self.position += self.velocity\n",
    "            self.position = np.clip(self.position,bounds[:,0],bounds[:,1])\n",
    "    \n",
    "    def run(self):\n",
    "        self.particles = [self.Particle(self.bounds) for _ in range(self.n_particle)]\n",
    "        self.gbest_postion = np.random.uniform(self.bounds[:,0],self.bounds[:,1],len(self.bounds))\n",
    "        self.gbest_value = float('inf')\n",
    "\n",
    "        for _ in range(self.max_iter):\n",
    "            for particle in self.particles:\n",
    "                fitness = self.fitness_function(particle.position)\n",
    "\n",
    "                if fitness < particle.pbest_value:\n",
    "                    particle.pbest_position = particle.position.copy()\n",
    "                    particle.pbest_value = fitness\n",
    "                \n",
    "                if fitness < self.gbest_value:\n",
    "                    self.gbest_postion = particle.position.copy()\n",
    "                    self.gbest_value = fitness\n",
    "\n",
    "            for particle in self.particles:\n",
    "                particle.update_velocity(self.gbest_postion,self.w,self.c1,self.c2)\n",
    "                particle.update_position(self.bounds)\n",
    "\n",
    "        return self.gbest_postion,self.gbest_value"
   ]
  },
  {
   "cell_type": "code",
   "execution_count": 23,
   "metadata": {},
   "outputs": [
    {
     "name": "stdout",
     "output_type": "stream",
     "text": [
      "(array([ 8.68365159e-14, -7.95217677e-14,  2.88643744e-13]), 9.717950271184054e-26)\n"
     ]
    }
   ],
   "source": [
    "def rastrigin(x):\n",
    "    return sum(x**2)\n",
    "\n",
    "bounds = np.array([[-5.12,5.12]]*3)\n",
    "pso = PSO(fitness_function=rastrigin,bounds=bounds,n_particle=50,max_iter=100)\n",
    "print(pso.run())"
   ]
  },
  {
   "cell_type": "code",
   "execution_count": null,
   "metadata": {},
   "outputs": [],
   "source": []
  }
 ],
 "metadata": {
  "kernelspec": {
   "display_name": "base",
   "language": "python",
   "name": "python3"
  },
  "language_info": {
   "codemirror_mode": {
    "name": "ipython",
    "version": 3
   },
   "file_extension": ".py",
   "mimetype": "text/x-python",
   "name": "python",
   "nbconvert_exporter": "python",
   "pygments_lexer": "ipython3",
   "version": "3.11.7"
  }
 },
 "nbformat": 4,
 "nbformat_minor": 2
}
